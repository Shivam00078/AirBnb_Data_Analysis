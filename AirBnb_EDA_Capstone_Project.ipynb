{
  "nbformat": 4,
  "nbformat_minor": 0,
  "metadata": {
    "colab": {
      "private_outputs": true,
      "provenance": []
    },
    "kernelspec": {
      "name": "python3",
      "display_name": "Python 3"
    },
    "language_info": {
      "name": "python"
    }
  },
  "cells": [
    {
      "cell_type": "markdown",
      "source": [
        "# **Project Name**    - AirBnb Bookings Analysis EDA Project\n",
        "\n",
        "\n",
        "\n"
      ],
      "metadata": {
        "id": "vncDsAP0Gaoa"
      }
    },
    {
      "cell_type": "markdown",
      "source": [
        "##### **Project Type**    - EDA\n",
        "##### **Contribution**    - Team\n",
        "##### **Team Member 1 -**   Shivam Bhardwaj\n",
        "##### **Team Member 2 -**   Shivam Tiwari"
      ],
      "metadata": {
        "id": "beRrZCGUAJYm"
      }
    },
    {
      "cell_type": "markdown",
      "source": [
        "# **Project Summary -**"
      ],
      "metadata": {
        "id": "FJNUwmbgGyua"
      }
    },
    {
      "cell_type": "markdown",
      "source": [
        "Hello, all. We have worked on the AirBnb Booking dataset of the year 2019. The dataset contains information of various hosts, their listings and the response of the users in terms of the number of reviews, when was the listing last reviewed etc.\n",
        "\n",
        "We have tried to work on the data and get three things out of it:\n",
        "\n",
        "a. We have tried to understand the user behaviour \n",
        "\n",
        "b. We have tried to understand the hosts' behaviour \n",
        "\n",
        "c. And most importantly, we have used those two to advice or suggest the stakeholders of AirBnb few points which when worked on will help drive the business in our humble opinion.\n",
        "\n",
        "We hope that you like the project and we would like to listen to your thoughts on it. You can reach me at shivambhardwaj0078@gmail.com"
      ],
      "metadata": {
        "id": "F6v_1wHtG2nS"
      }
    },
    {
      "cell_type": "markdown",
      "source": [
        "# **GitHub Link -**"
      ],
      "metadata": {
        "id": "w6K7xa23Elo4"
      }
    },
    {
      "cell_type": "markdown",
      "source": [
        "Provide your GitHub Link here."
      ],
      "metadata": {
        "id": "h1o69JH3Eqqn"
      }
    },
    {
      "cell_type": "markdown",
      "source": [
        "# **Problem Statement**\n"
      ],
      "metadata": {
        "id": "yQaldy8SH6Dl"
      }
    },
    {
      "cell_type": "markdown",
      "source": [
        "## <b>This dataset has around 49,000 observations in it with 16 columns and it is a mix between categorical and numeric values. </b>\n",
        "\n",
        "#These millions of listings generate a lot of data - data that can be analyzed and used for security, business decisions, understanding of customers' and providers' (hosts) behavior and performance on the platform, guiding marketing initiatives, implementation of innovative additional services and much more. "
      ],
      "metadata": {
        "id": "DpeJGUA3kjGy"
      }
    },
    {
      "cell_type": "markdown",
      "source": [
        "#### **Define Your Business Objective?**"
      ],
      "metadata": {
        "id": "PH-0ReGfmX4f"
      }
    },
    {
      "cell_type": "markdown",
      "source": [
        "*Understanding the user and host behaviour*\n",
        "\n"
      ],
      "metadata": {
        "id": "PhDvGCAqmjP1"
      }
    },
    {
      "cell_type": "markdown",
      "source": [
        "# **General Guidelines** : -  "
      ],
      "metadata": {
        "id": "mDgbUHAGgjLW"
      }
    },
    {
      "cell_type": "markdown",
      "source": [
        "1.   Well-structured, formatted, and commented code is required. \n",
        "2.   Exception Handling, Production Grade Code & Deployment Ready Code will be a plus. Those students will be awarded some additional credits. \n",
        "     \n",
        "     The additional credits will have advantages over other students during Star Student selection.\n",
        "       \n",
        "             [ Note: - Deployment Ready Code is defined as, the whole .ipynb notebook should be executable in one go\n",
        "                       without a single error logged. ]\n",
        "\n",
        "3.   Each and every logic should have proper comments.\n",
        "4. You may add as many number of charts you want. Make Sure for each and every chart the following format should be answered.\n",
        "        \n",
        "\n",
        "```\n",
        "# Chart visualization code\n",
        "```\n",
        "            \n",
        "\n",
        "*   Why did you pick the specific chart?\n",
        "*   What is/are the insight(s) found from the chart?\n",
        "* Will the gained insights help creating a positive business impact? \n",
        "Are there any insights that lead to negative growth? Justify with specific reason.\n",
        "\n",
        "5. You have to create at least 20 logical & meaningful charts having important insights.\n",
        "\n",
        "\n",
        "[ Hints : - Do the Vizualization in  a structured way while following \"UBM\" Rule. \n",
        "\n",
        "U - Univariate Analysis,\n",
        "\n",
        "B - Bivariate Analysis (Numerical - Categorical, Numerical - Numerical, Categorical - Categorical)\n",
        "\n",
        "M - Multivariate Analysis\n",
        " ]\n",
        "\n",
        "\n",
        "\n"
      ],
      "metadata": {
        "id": "ZrxVaUj-hHfC"
      }
    },
    {
      "cell_type": "markdown",
      "source": [
        "# ***Let's Begin !***"
      ],
      "metadata": {
        "id": "O_i_v8NEhb9l"
      }
    },
    {
      "cell_type": "markdown",
      "source": [
        "## ***1. Know the Data***"
      ],
      "metadata": {
        "id": "HhfV-JJviCcP"
      }
    },
    {
      "cell_type": "markdown",
      "source": [
        "### Importing Libraries"
      ],
      "metadata": {
        "id": "Y3lxredqlCYt"
      }
    },
    {
      "cell_type": "code",
      "source": [
        "# Import Libraries\n",
        "import pandas as pd\n",
        "import numpy as np\n",
        "import matplotlib.pyplot as plt\n",
        "import seaborn as sns\n",
        "sns.set()\n",
        "%matplotlib inline\n",
        "import warnings\n",
        "warnings.filterwarnings('ignore')\n",
        "from IPython.core.interactiveshell import InteractiveShell\n",
        "InteractiveShell.ast_node_interactivity = \"all\""
      ],
      "metadata": {
        "id": "M8Vqi-pPk-HR"
      },
      "execution_count": null,
      "outputs": []
    },
    {
      "cell_type": "code",
      "source": [
        "from google.colab import drive\n",
        "drive.mount('/content/drive')"
      ],
      "metadata": {
        "id": "nhEqbr29WC1F"
      },
      "execution_count": null,
      "outputs": []
    },
    {
      "cell_type": "markdown",
      "source": [
        "### Dataset Loading"
      ],
      "metadata": {
        "id": "3RnN4peoiCZX"
      }
    },
    {
      "cell_type": "code",
      "source": [
        "# Load Dataset\n",
        "path=\"/content/drive/MyDrive/Almabetter/modules/Python for Data Science/Capstone Projects/Airbnb NYC 2019.csv\"\n",
        "dataset=pd.read_csv(path)\n"
      ],
      "metadata": {
        "id": "4CkvbW_SlZ_R"
      },
      "execution_count": null,
      "outputs": []
    },
    {
      "cell_type": "code",
      "source": [
        "# Generating a copy\n",
        "df = dataset.copy()"
      ],
      "metadata": {
        "id": "7AXNYzFUWaZG"
      },
      "execution_count": null,
      "outputs": []
    },
    {
      "cell_type": "markdown",
      "source": [
        "### Dataset First View"
      ],
      "metadata": {
        "id": "x71ZqKXriCWQ"
      }
    },
    {
      "cell_type": "code",
      "source": [
        "# Dataset First Look\n",
        "df.head()"
      ],
      "metadata": {
        "id": "LWNFOSvLl09H"
      },
      "execution_count": null,
      "outputs": []
    },
    {
      "cell_type": "markdown",
      "source": [
        "### Dataset Rows & Columns count"
      ],
      "metadata": {
        "id": "7hBIi_osiCS2"
      }
    },
    {
      "cell_type": "code",
      "source": [
        "# Dataset Rows & Columns count\n",
        "df.shape"
      ],
      "metadata": {
        "id": "Kllu7SJgmLij"
      },
      "execution_count": null,
      "outputs": []
    },
    {
      "cell_type": "markdown",
      "source": [
        "##Dataset Info"
      ],
      "metadata": {
        "id": "KF74-P-5HM9r"
      }
    },
    {
      "cell_type": "code",
      "source": [
        "df.info()"
      ],
      "metadata": {
        "id": "zDV93APxHLiQ"
      },
      "execution_count": null,
      "outputs": []
    },
    {
      "cell_type": "markdown",
      "source": [
        "##Observations\n",
        "\n",
        "####1) The total number of rows and columns are 48895 and 16 respectively\n",
        "####2)Some columns have missing values and null data, so we are now going to clean this data "
      ],
      "metadata": {
        "id": "ZY2WwzcB_R2m"
      }
    },
    {
      "cell_type": "markdown",
      "source": [
        "#### Missing Values/Null Values"
      ],
      "metadata": {
        "id": "PoPl-ycgm1ru"
      }
    },
    {
      "cell_type": "code",
      "source": [
        "# Missing Values/Null Values Count\n",
        "df.isnull().sum()"
      ],
      "metadata": {
        "id": "GgHWkxvamxVg"
      },
      "execution_count": null,
      "outputs": []
    },
    {
      "cell_type": "markdown",
      "source": [
        "##Observations\n",
        "\n",
        "####1)Columns like name,host_name,last_review,reviews_per_month have missing values. name and host_name column is not important as it does not convey any meaningful data. So those columns can be dropped.\n",
        "####2)last_review and reviews_per_month have the same number of NaN values which means certain properties were not rated at all hence last_review has no date and reviews_per_month has no data."
      ],
      "metadata": {
        "id": "gfoNAAC-nUe_"
      }
    },
    {
      "cell_type": "markdown",
      "source": [
        "# Understanding the Data"
      ],
      "metadata": {
        "id": "j7xfkqrt5Ag5"
      }
    },
    {
      "cell_type": "code",
      "source": [
        "#Dataset Columns\n",
        "df.columns"
      ],
      "metadata": {
        "id": "Ejp-SZK9CugB"
      },
      "execution_count": null,
      "outputs": []
    },
    {
      "cell_type": "markdown",
      "source": [
        "## 3. ***Data Wrangling***"
      ],
      "metadata": {
        "id": "dauF4eBmngu3"
      }
    },
    {
      "cell_type": "markdown",
      "source": [
        "### Cleaning the Data"
      ],
      "metadata": {
        "id": "bKJF3rekwFvQ"
      }
    },
    {
      "cell_type": "code",
      "source": [
        "#Dropping the columns names, host_names and last_review\n",
        "df.drop(['host_name','name','last_review'],inplace=True,axis=1)"
      ],
      "metadata": {
        "id": "wk-9a2fpoLcV"
      },
      "execution_count": null,
      "outputs": []
    },
    {
      "cell_type": "code",
      "source": [
        "#Checking changes\n",
        "df.head()"
      ],
      "metadata": {
        "id": "d1lGF4HXEQYK"
      },
      "execution_count": null,
      "outputs": []
    },
    {
      "cell_type": "code",
      "source": [
        "df.isnull().sum()"
      ],
      "metadata": {
        "id": "U6V5LqylEdR0"
      },
      "execution_count": null,
      "outputs": []
    },
    {
      "cell_type": "code",
      "source": [
        "#Now null values exist only in reviews_per_month\n",
        "#Replacing NaN with 0\n",
        "df.fillna({\"reviews_per_month\":0},inplace=True)\n",
        "df.isnull().sum()\n",
        "# All null values are eliminated"
      ],
      "metadata": {
        "id": "xW-ofOchEsWR"
      },
      "execution_count": null,
      "outputs": []
    },
    {
      "cell_type": "code",
      "source": [
        "df.describe()"
      ],
      "metadata": {
        "id": "0mq2obF1F3Yb"
      },
      "execution_count": null,
      "outputs": []
    },
    {
      "cell_type": "markdown",
      "source": [
        "##Observation\n",
        "\n",
        "####1)The minimum price is zero which is not possible\n",
        "####2)The Maximum minimum_nights is 1250 which is very unlikely.\n",
        "\n"
      ],
      "metadata": {
        "id": "7_VB18fGGHnC"
      }
    },
    {
      "cell_type": "code",
      "source": [
        "#Rows which have 'price'=0\n",
        "df[df['price']==0]"
      ],
      "metadata": {
        "id": "pLQahJ9JGlZd"
      },
      "execution_count": null,
      "outputs": []
    },
    {
      "cell_type": "code",
      "source": [
        "#Removing the properties with price 0 which is not possible\n",
        "df=df[df[\"price\"]>0]"
      ],
      "metadata": {
        "id": "hoA9hU7ZJpKo"
      },
      "execution_count": null,
      "outputs": []
    },
    {
      "cell_type": "code",
      "source": [
        "#Checking the data again\n",
        "df[df['price']==0]"
      ],
      "metadata": {
        "id": "fi1qdJPkKSy9"
      },
      "execution_count": null,
      "outputs": []
    },
    {
      "cell_type": "code",
      "source": [
        "\n",
        "#Function to correct minimum nights\n",
        "def minimum_nights_correction(minimum_nights):\n",
        "  if minimum_nights>365:\n",
        "    return 365\n",
        "  else:\n",
        "    return minimum_nights\n"
      ],
      "metadata": {
        "id": "76VCnm05K2Vd"
      },
      "execution_count": null,
      "outputs": []
    },
    {
      "cell_type": "code",
      "source": [
        "# Using the minimum_nights_correction function to change the value of 'minimum_nights' to 365 which are greater than 365\n",
        "df[\"minimum_nights\"]=df[\"minimum_nights\"].apply(minimum_nights_correction)"
      ],
      "metadata": {
        "id": "DmGxsAtALXM-"
      },
      "execution_count": null,
      "outputs": []
    },
    {
      "cell_type": "code",
      "source": [
        "df[df[\"minimum_nights\"]>365]"
      ],
      "metadata": {
        "id": "YdMw7i0cMt10"
      },
      "execution_count": null,
      "outputs": []
    },
    {
      "cell_type": "code",
      "source": [
        "df.describe()"
      ],
      "metadata": {
        "id": "ywb9AzTuNf2G"
      },
      "execution_count": null,
      "outputs": []
    },
    {
      "cell_type": "markdown",
      "source": [
        "###Data is Cleaned and all values which do not make sense are removed"
      ],
      "metadata": {
        "id": "sUTUCfvUOHZM"
      }
    },
    {
      "cell_type": "markdown",
      "source": [
        "**4. Understanding the relationships between variables using different kinds of visualisation techniques:**"
      ],
      "metadata": {
        "id": "GF8Ens_Soomf"
      }
    },
    {
      "cell_type": "markdown",
      "source": [
        "Basic understanding of the data's linear relationships:"
      ],
      "metadata": {
        "id": "0wOQAZs5pc--"
      }
    },
    {
      "cell_type": "code",
      "source": [
        "# Chart - 1 visualization code\n",
        "# Getting the numerical variables\n",
        "corr_data = df[['price','minimum_nights','number_of_reviews','reviews_per_month','calculated_host_listings_count','availability_365']]\n",
        "\n",
        "# Heatmap\n",
        "corrmat = corr_data.corr()\n",
        "plt.figure(figsize=(15,8))\n",
        "sns.heatmap(corrmat,annot=True,fmt='.2f',annot_kws={'size':10},vmax=.8,square=True);"
      ],
      "metadata": {
        "id": "7v_ESjsspbW7"
      },
      "execution_count": null,
      "outputs": []
    },
    {
      "cell_type": "markdown",
      "source": [
        "**Why heatmap?**"
      ],
      "metadata": {
        "id": "K5QZ13OEpz2H"
      }
    },
    {
      "cell_type": "markdown",
      "source": [
        "It helps understand the linear relationship between any two numerical variables of a dataset. And it is beautiful.\n",
        "\n"
      ],
      "metadata": {
        "id": "XESiWehPqBRc"
      }
    },
    {
      "cell_type": "markdown",
      "source": [
        "#####**Insight(s) found from the chart?**"
      ],
      "metadata": {
        "id": "lQ7QKXXCp7Bj"
      }
    },
    {
      "cell_type": "markdown",
      "source": [
        "From the overlook, there seems to be no relationship between any two variables of the dataset except for the very obvious one (number of reviews and reviews per month).\n"
      ],
      "metadata": {
        "id": "C_j1G7yiqdRP"
      }
    },
    {
      "cell_type": "markdown",
      "source": [
        "**How does the insight help?**"
      ],
      "metadata": {
        "id": "OHS39LGTaCGn"
      }
    },
    {
      "cell_type": "markdown",
      "source": [
        "Now we know that we can't expect any linear kind of relationship between two numerical variables of our problem."
      ],
      "metadata": {
        "id": "LmNpSwShaF-4"
      }
    },
    {
      "cell_type": "markdown",
      "source": [
        "**What is the distribution of the room types?**"
      ],
      "metadata": {
        "id": "gDkuavrhaSE4"
      }
    },
    {
      "cell_type": "code",
      "source": [
        "# Value counts of the room type column\n",
        "pie_data = df.room_type.value_counts(normalize=True)*100\n",
        "pie_data = pie_data.reset_index().rename(columns={'index':'room_type','room_type':'% share'})\n",
        "pie_data"
      ],
      "metadata": {
        "id": "aYvaFR_6aacn"
      },
      "execution_count": null,
      "outputs": []
    },
    {
      "cell_type": "code",
      "source": [
        "# Using colorblind palette for pie chart\n",
        "sns.set_palette(\"colorblind\")\n",
        "plt.figure(figsize=(12,8))\n",
        "plt.pie(pie_data['% share'],\n",
        "        labels = pie_data['room_type'].values,\n",
        "        autopct = \"%.1f%%\", # % values in 1 decimals\n",
        "        textprops = {\"size\":\"x-large\",\n",
        "                     \"fontweight\":\"bold\",\n",
        "                     \"color\":\"w\"}) # styling the text\n",
        "plt.legend()\n",
        "# Giving our chart a suitable title\n",
        "plt.title(\"% share of room type in dataset\", fontweight = \"bold\", fontsize = 18)\n",
        "plt.show();"
      ],
      "metadata": {
        "id": "wchcZ4PSa7kl"
      },
      "execution_count": null,
      "outputs": []
    },
    {
      "cell_type": "markdown",
      "source": [
        "Why pie chart?"
      ],
      "metadata": {
        "id": "bzwcvOM1bE3S"
      }
    },
    {
      "cell_type": "markdown",
      "source": [
        "The pie chart is a pretty straightforward way to show the distribution of the data among smaller number of categories, especially when the individual % share of the categories are not very small in numbers.\n",
        "\n"
      ],
      "metadata": {
        "id": "MjUGv2AnbGfK"
      }
    },
    {
      "cell_type": "markdown",
      "source": [
        "Insights from the chart?"
      ],
      "metadata": {
        "id": "NJ3GFGi7bJxJ"
      }
    },
    {
      "cell_type": "markdown",
      "source": [
        "The most common type of rooms available are apartments that are fully available on rent. These are a bit expensive than the other two categories and account for 52.0% of the listings.\n",
        "\n",
        "The next most common type of listings is the private room type. Here, a room from an apartment or a home is available for use to an individual. This kind of rooms account for 45.7% of the listings. They are cheaper options and also interest those who don't travel in large groups.\n",
        "\n",
        "Shared rooms are available as well and are perhaps the cheapest options where individuals can book rooms that other will also be using. These account for 2.4% of the data.\n"
      ],
      "metadata": {
        "id": "G7WjL74qbMcx"
      }
    },
    {
      "cell_type": "markdown",
      "source": [
        "How does the insights help?"
      ],
      "metadata": {
        "id": "7VRbzWjEbRHB"
      }
    },
    {
      "cell_type": "markdown",
      "source": [
        "Now we know that there aren't enough shared room listings. It should be looked at why so. Is it because the demand isn't so much or is it a sector that has been so far overlooked by the AirBnb team. If it turns out to be the later, hosts can be incentivized and encouraged to add such more listings.\n",
        "\n"
      ],
      "metadata": {
        "id": "9ZpRtVhRbUmK"
      }
    },
    {
      "cell_type": "markdown",
      "source": [
        "**What are the price ranges for the three room types?**"
      ],
      "metadata": {
        "id": "g-6Bubl6bfJT"
      }
    },
    {
      "cell_type": "code",
      "source": [
        "# Preparing the data\n",
        "# Segregating the dataset for each room type\n",
        "df_Shared = df[df['room_type']=='Shared room']\n",
        "df_Private = df[df['room_type']=='Private room']\n",
        "df_EHA = df[df['room_type']=='Entire home/apt']\n",
        "\n",
        "\n",
        "temp = pd.concat([df_EHA['price'].describe(),df_Private['price'].describe(),df_Shared['price'].describe()], axis=1)\n",
        "temp.reset_index(inplace=True)\n",
        "temp.columns = ['stat','EHA','Private','Shared']\n",
        "# Not including the distribution post 75% since two of the three room types have high volume of outliers\n",
        "line_data = temp.iloc[3:7,:] \n",
        "line_data\n"
      ],
      "metadata": {
        "id": "4u-aSGw7bmJF"
      },
      "execution_count": null,
      "outputs": []
    },
    {
      "cell_type": "code",
      "source": [
        "# Setting the size of the figure\n",
        "plt.figure(figsize = (15,8))\n",
        "# Plotting the lines\n",
        "plt.plot(line_data.stat, line_data.EHA, color = \"midnightblue\")\n",
        "plt.plot(line_data.stat, line_data.Private, color = \"crimson\")\n",
        "plt.plot(line_data.stat, line_data.Shared, color = \"green\")\n",
        "# Assigning the labels\n",
        "plt.ylabel(\"Price\")\n",
        "plt.xlabel(\"Distribution\")\n",
        "# Adding labels\n",
        "labels = ['Entire home/apt','Private room','Shared room']\n",
        "plt.legend(labels = labels, fontsize = \"large\")\n",
        "plt.title(\"Price for Entire home/apt vs Private room vs Shared room\", fontsize = 16, fontweight = \"bold\")\n",
        "plt.show();"
      ],
      "metadata": {
        "id": "ML0nyCvhcQRj"
      },
      "execution_count": null,
      "outputs": []
    },
    {
      "cell_type": "markdown",
      "source": [
        "Why line graph?"
      ],
      "metadata": {
        "id": "Wfufv-nGcT-e"
      }
    },
    {
      "cell_type": "markdown",
      "source": [
        "Line graphs are the best possible choice to explain the distribution of the prices for the three kinds of rooms. This is because, as aforementioned, two of the three room types have high volume of outliers when it comes to the prices of the rooms. A violin plot or a boxplot would thus not be able to entirely paint the picture here.\n",
        "\n"
      ],
      "metadata": {
        "id": "yR434XSccYOe"
      }
    },
    {
      "cell_type": "markdown",
      "source": [
        "Insights from the chart?"
      ],
      "metadata": {
        "id": "vQUm8IXbccFS"
      }
    },
    {
      "cell_type": "markdown",
      "source": [
        "It was pretty easy to guess which of the three would have been the most affordable and the most expensive options. However, it was difficult to tell how much exactly the prices differed for the three kinds.\n",
        "\n",
        "All the three have the cheapest options starting from $10. However, the rise in the price for an entire home or apartment is very considerable. Whereas, there is very little difference between the prices of the other two types, even as we move towards the higher end of the pay.\n",
        "\n",
        "More than 75% of the rooms for the private and shared ones cost lesser than $100 whereas the price doubles at the 75th percentile for entire rooms and apartments.\n",
        "\n",
        "How does the insight helps?\n",
        "We already knew that the shared room types are the cheapest options but now we can quantify how cheap the prices can expected to be. A shared room is anywhere between 20-50% cheaper option.\n",
        "\n",
        "We also know how much expensive the entire rooms are. A customer will have to pay atleast twice as much as he would ideally pay for getting a private or a shared room to get an apartment or home.\n",
        "\n",
        "So, the visualisation tells us about the consumer's spending power.\n",
        "\n"
      ],
      "metadata": {
        "id": "QhSc-4fOcfJY"
      }
    },
    {
      "cell_type": "markdown",
      "source": [
        "**Which type of rooms get the most reviews on average?**"
      ],
      "metadata": {
        "id": "Kdw1ykIZcnqK"
      }
    },
    {
      "cell_type": "code",
      "source": [
        "# Using group by on room type to get median of reviews per month\n",
        "bar_data = df.groupby(['room_type']).agg({'reviews_per_month':'median'}).reset_index() #median because data has too many outliers\n",
        "bar_data\n"
      ],
      "metadata": {
        "id": "qH7tlz6bcvFs"
      },
      "execution_count": null,
      "outputs": []
    },
    {
      "cell_type": "code",
      "source": [
        "plt.figure(figsize=(10,5))\n",
        "plt.barh(y=bar_data['room_type'],\n",
        "         width=bar_data['reviews_per_month'], color=\"midnightblue\", height=0.5)\n",
        "plt.title(\"Reviews Frequency for every room type\", fontsize=16, color=\"midnightblue\", fontweight=\"bold\")\n",
        "plt.xticks(fontsize=12, color=\"midnightblue\")\n",
        "plt.yticks(fontsize=10, color=\"midnightblue\")\n",
        "plt.xlabel(\"reviews per month\", fontsize=14, color=\"midnightblue\")\n",
        "# Annotations on the bar\n",
        "for i in range(len(bar_data['room_type'])):\n",
        "    plt.annotate(bar_data['reviews_per_month'][i], \n",
        "                 (bar_data['reviews_per_month'][i] - .027, -0.05+i), \n",
        "                 color=\"white\", fontweight=\"bold\")\n",
        "plt.show();"
      ],
      "metadata": {
        "id": "ET-BuFaWcxBr"
      },
      "execution_count": null,
      "outputs": []
    },
    {
      "cell_type": "markdown",
      "source": [
        "Why horizontal bar?"
      ],
      "metadata": {
        "id": "oiiinEQDc5ot"
      }
    },
    {
      "cell_type": "markdown",
      "source": [
        "Horizontal bars help identify the small differences between values for the different categories, like we have in between Shared room and Private room.\n",
        "\n"
      ],
      "metadata": {
        "id": "iIRRJIzAc6a2"
      }
    },
    {
      "cell_type": "markdown",
      "source": [
        "Insights from the chart?"
      ],
      "metadata": {
        "id": "kp997bNnc81N"
      }
    },
    {
      "cell_type": "markdown",
      "source": [
        "We can see that the shared rooms get reviews more frequently than the two more expensive types.\n",
        "\n",
        "Actually, private rooms are reviewed almost as frequently as the shared rooms.\n",
        "\n"
      ],
      "metadata": {
        "id": "pzeMUiA0c_Zh"
      }
    },
    {
      "cell_type": "markdown",
      "source": [
        "How does the insight help?"
      ],
      "metadata": {
        "id": "aBuq5rmrdDGD"
      }
    },
    {
      "cell_type": "markdown",
      "source": [
        "The cheaper rooms will always have the biggest crowd if they have all the basic necessities made available. This betters the user experience and since the users already review such rooms more frequently, there will be more positive feedbacks for the listings and thus AirBnb.\n",
        "\n"
      ],
      "metadata": {
        "id": "ohPchrzEdF4a"
      }
    },
    {
      "cell_type": "markdown",
      "source": [
        "**Which room_type is available to book most of the times on average?**"
      ],
      "metadata": {
        "id": "EGQFVtEydIjp"
      }
    },
    {
      "cell_type": "code",
      "source": [
        "# Using group by on room type to get median of availability_365\n",
        "bar_data = df.groupby(['room_type']).agg({'availability_365':'median'}).reset_index() #median because data has too many outliers\n",
        "bar_data\n"
      ],
      "metadata": {
        "id": "UejUjKsNdTAy"
      },
      "execution_count": null,
      "outputs": []
    },
    {
      "cell_type": "code",
      "source": [
        "# Setting the size\n",
        "plt.figure(figsize=(15,8))\n",
        "plt.bar(bar_data[\"room_type\"], bar_data[\"availability_365\"], color=\"midnightblue\", width=0.5)\n",
        "# Title for the graph\n",
        "plt.title(\"Availability based on room types\", fontsize=16, color=\"midnightblue\", fontweight=\"bold\")\n",
        "# The markings on the axes\n",
        "plt.xticks(fontsize=12, color=\"midnightblue\")\n",
        "plt.yticks(fontsize=10, color=\"midnightblue\")\n",
        "# Labels for the axes\n",
        "plt.ylabel(\"No. of days available\", fontsize=14, color=\"midnightblue\")\n",
        "plt.xlabel(\"Room types\", fontsize=14, color=\"midnightblue\")\n",
        "# Adding annotations on the graph\n",
        "for i in range(len(bar_data[\"room_type\"])):\n",
        "    plt.annotate(bar_data[\"availability_365\"][i], \n",
        "                 (i-0.03, bar_data[\"availability_365\"][i] - 5), \n",
        "                 color=\"white\", fontweight=\"bold\", fontsize=14)\n",
        "plt.show();"
      ],
      "metadata": {
        "id": "mBnqPQbEdZi0"
      },
      "execution_count": null,
      "outputs": []
    },
    {
      "cell_type": "markdown",
      "source": [
        "Why bar chart?"
      ],
      "metadata": {
        "id": "XcBTmiv4dcOY"
      }
    },
    {
      "cell_type": "markdown",
      "source": [
        "Because it is easier to display the information using a bar chart when you have far too many categories for a pie chart. If we were to use pie chart here, the information could have been cluttered and difficult to read, especially because of the skewed nature of the categories.\n",
        "\n"
      ],
      "metadata": {
        "id": "NSGI_CfadfCj"
      }
    },
    {
      "cell_type": "markdown",
      "source": [
        "Insights from the chart?"
      ],
      "metadata": {
        "id": "9mabTORMdhtD"
      }
    },
    {
      "cell_type": "markdown",
      "source": [
        "Shared rooms are more available (90 days) whereas entire homes or apartments and private rooms have almost similar availability (42-45 days).\n",
        "\n"
      ],
      "metadata": {
        "id": "FvvyDARLdkGJ"
      }
    },
    {
      "cell_type": "markdown",
      "source": [
        "How does the insight help?"
      ],
      "metadata": {
        "id": "j_n-ifBtdmOh"
      }
    },
    {
      "cell_type": "markdown",
      "source": [
        "Marketing campaigns to create awareness about the easy availability and easy affordability can be created to inform the consumers about the shared rooms where we have already established the fact that there is a big room for growth.\n",
        "\n"
      ],
      "metadata": {
        "id": "hbBl1jgGdroj"
      }
    },
    {
      "cell_type": "markdown",
      "source": [
        "**What is the distribution of the minimum booking days necessary for the different kinds of room types?**"
      ],
      "metadata": {
        "id": "_6nCFwqhduvw"
      }
    },
    {
      "cell_type": "code",
      "source": [
        "# Preparing the data\n",
        "temp = pd.concat([df_EHA['minimum_nights'].describe(),df_Private['minimum_nights'].describe(),df_Shared['minimum_nights'].describe()], axis=1)\n",
        "temp.reset_index(inplace=True)\n",
        "temp.columns = ['stat','EHA','Private','Shared']\n",
        "# Not including the distribution post 75% since two of the three room types have high volume of outliers\n",
        "line_data = temp.iloc[3:7,:] \n",
        "line_data"
      ],
      "metadata": {
        "id": "VR6LNagId1hT"
      },
      "execution_count": null,
      "outputs": []
    },
    {
      "cell_type": "code",
      "source": [
        "# Setting the size of the figure\n",
        "plt.figure(figsize = (15,8))\n",
        "# Plotting the lines\n",
        "plt.plot(line_data.stat, line_data.EHA, color = \"midnightblue\")\n",
        "plt.plot(line_data.stat, line_data.Private, color = \"crimson\")\n",
        "plt.plot(line_data.stat, line_data.Shared, color = \"green\")\n",
        "# Assigning the labels\n",
        "plt.ylabel(\"Minimum Nights\")\n",
        "plt.xlabel(\"Distribution\")\n",
        "# Adding labels\n",
        "labels = ['Entire home/apt','Private room','Shared room']\n",
        "plt.legend(labels = labels, fontsize = \"large\")\n",
        "plt.title(\"Minimum nights to book for Entire home/apt vs Private room vs Shared room\", fontsize = 16, fontweight = \"bold\")\n",
        "plt.show();"
      ],
      "metadata": {
        "id": "B7j0LNSWd6nF"
      },
      "execution_count": null,
      "outputs": []
    },
    {
      "cell_type": "markdown",
      "source": [
        "Why line graph?"
      ],
      "metadata": {
        "id": "2TD75FtveDJE"
      }
    },
    {
      "cell_type": "markdown",
      "source": [
        "Line graphs, as explained earlier, are best suited for us to show the distribution of the three kinds where there are a lot of outliers in the dataset.\n",
        "\n"
      ],
      "metadata": {
        "id": "sPyLO15deD_B"
      }
    },
    {
      "cell_type": "markdown",
      "source": [
        "Insights from the chart?"
      ],
      "metadata": {
        "id": "5AoRasFMeGsw"
      }
    },
    {
      "cell_type": "markdown",
      "source": [
        "More than half of the shared room listings can be booked just for a day and then the other half see the growth in the number of minimum days of bookings required at the same rate as the other two room types.\n",
        "\n",
        "Entire Rooms have consistent growth and are expected to be booked usually for days than the other two room types.\n",
        "\n",
        "And the private rooms see almost similar growth as entire rooms in the later 75 percentile of listings before seeing none in the first quantile.\n",
        "\n"
      ],
      "metadata": {
        "id": "9F6wtOyWeJEO"
      }
    },
    {
      "cell_type": "markdown",
      "source": [
        "How does the insight help?"
      ],
      "metadata": {
        "id": "dpnECOcDeMqx"
      }
    },
    {
      "cell_type": "markdown",
      "source": [
        "Another stat that now tells us a lot about the room types and the hosts behaviour. Booking entire homes doesn't only need more money but a committment of more days as well. However, half of the shared rooms have almost no committments.\n",
        "\n"
      ],
      "metadata": {
        "id": "vPwY4tneeQEe"
      }
    },
    {
      "cell_type": "markdown",
      "source": [
        "**Which are the most popular neighbourhood groups in terms of listings?**"
      ],
      "metadata": {
        "id": "0I_zOjJXeS31"
      }
    },
    {
      "cell_type": "code",
      "source": [
        "pie_data = df.neighbourhood_group.value_counts(normalize=True)*100\n",
        "pie_data = pie_data.reset_index().rename(columns={'index':'neighbourhood_group','neighbourhood_group':'% share'})\n",
        "pie_data"
      ],
      "metadata": {
        "id": "0IUrW9gVeZJr"
      },
      "execution_count": null,
      "outputs": []
    },
    {
      "cell_type": "code",
      "source": [
        "# Using colorblind palette for pie chart\n",
        "plt.figure(figsize=(15,10))\n",
        "plt.pie(pie_data['% share'],\n",
        "        pctdistance = 1.125,\n",
        "        autopct = \"%.2f%%\",\n",
        "        textprops = {\"size\":\"x-large\",\n",
        "                     \"color\":\"black\"})\n",
        "plt.legend(labels = pie_data['neighbourhood_group'].values, loc='upper right', fontsize=12)\n",
        "# Giving our chart a suitable title\n",
        "plt.title(\"% share of neighbourhood groups\", fontweight = \"bold\", fontsize = 18)\n",
        "plt.show();"
      ],
      "metadata": {
        "id": "2yMCtePjehmE"
      },
      "execution_count": null,
      "outputs": []
    },
    {
      "cell_type": "markdown",
      "source": [
        "Why pie chart?"
      ],
      "metadata": {
        "id": "syEBq7d_ekZv"
      }
    },
    {
      "cell_type": "markdown",
      "source": [
        "Bars fail when the difference between the two extremes in terms of % share is too big and thus we have to use pie chart here.\n",
        "\n"
      ],
      "metadata": {
        "id": "46TosCjwepE_"
      }
    },
    {
      "cell_type": "markdown",
      "source": [
        "Insights from the chart?"
      ],
      "metadata": {
        "id": "Z3hpzZhZerRn"
      }
    },
    {
      "cell_type": "markdown",
      "source": [
        "Manhattan and Brooklyn comprise almost 85% of the listings of New York on AirBnb. Whereas Bronx and Staten Island (the largest of the five neighbourhood groups) lack presence and account for only about 3% combined.\n",
        "\n"
      ],
      "metadata": {
        "id": "vcgw0JmWetss"
      }
    },
    {
      "cell_type": "markdown",
      "source": [
        "How does the insight help?"
      ],
      "metadata": {
        "id": "Xed1lMz5ewPE"
      }
    },
    {
      "cell_type": "markdown",
      "source": [
        "It helps a company to know where its user base is from and where it is not doing well. When the largest neighbourhood group in terms of area of the five has the lowest number of listings, AirBnb needs to acquire most listings from over there.\n",
        "\n"
      ],
      "metadata": {
        "id": "TrLqv-30eyTb"
      }
    },
    {
      "cell_type": "markdown",
      "source": [
        "**Distribution by room types**"
      ],
      "metadata": {
        "id": "YvIp1HE4e2WZ"
      }
    },
    {
      "cell_type": "code",
      "source": [
        "bar_data=df.groupby(['neighbourhood_group','room_type']).agg({'room_type':'count'}).rename(columns={'room_type':'no_of_listings'}).reset_index()\n",
        "bar_data\n"
      ],
      "metadata": {
        "id": "Mf4HHeCmfCll"
      },
      "execution_count": null,
      "outputs": []
    },
    {
      "cell_type": "code",
      "source": [
        "# Plotting the bar multivariate graph\n",
        "sns.set_palette('colorblind')\n",
        "plt.figure(figsize=(20,10))\n",
        "sns.barplot(data=bar_data, x='neighbourhood_group', y ='no_of_listings', hue='room_type')\n",
        "# Title for the graph\n",
        "plt.title(\"No of listings of various room types in the neighbourhood groups\", fontsize=16, color=\"black\", fontweight=\"bold\")\n",
        "# The markings on the axes\n",
        "plt.xticks(fontsize=12, color=\"black\")\n",
        "plt.yticks(fontsize=10, color=\"black\")\n",
        "# Labels for the axes\n",
        "plt.ylabel(\"No. of listings\", fontsize=16, color=\"black\")\n",
        "plt.xlabel(\"Neighbourhood\", fontsize=16, color=\"black\")\n",
        "plt.legend(title=\"Room types\")\n",
        "plt.show();\n"
      ],
      "metadata": {
        "id": "l4MCJ2cGfJYg"
      },
      "execution_count": null,
      "outputs": []
    },
    {
      "cell_type": "markdown",
      "source": [
        "Why bar chart?"
      ],
      "metadata": {
        "id": "HBpZ6ujCfLUB"
      }
    },
    {
      "cell_type": "markdown",
      "source": [
        "We can see that the bar chart helps us understand the difference in the numbers so clearly here. It is what made us go for it.\n",
        "\n"
      ],
      "metadata": {
        "id": "njKgpCy0fOOj"
      }
    },
    {
      "cell_type": "markdown",
      "source": [
        "Insights from the chart?"
      ],
      "metadata": {
        "id": "NbP2Lf7QfSak"
      }
    },
    {
      "cell_type": "markdown",
      "source": [
        "Apart from Manhattan, the rest of the neighbourhood groups have more private room listings than entire room/apartment listings.\n",
        "\n"
      ],
      "metadata": {
        "id": "gh7e30D0fVU0"
      }
    },
    {
      "cell_type": "markdown",
      "source": [
        "How does the insight help?"
      ],
      "metadata": {
        "id": "DcQZff6zfYAM"
      }
    },
    {
      "cell_type": "markdown",
      "source": [
        "It gives us an idea of what the users want and what the hosts provide. The most interesting point for the stakeholders should be looking into what makes the users get entire apartments rather than a private room even though the former are much more expensive.\n",
        "\n"
      ],
      "metadata": {
        "id": "_U4DnqAdfab1"
      }
    },
    {
      "cell_type": "markdown",
      "source": [
        "**Which are the 10 most popular neighbourhood in terms of listings?**"
      ],
      "metadata": {
        "id": "LhJYpp4vfkg1"
      }
    },
    {
      "cell_type": "code",
      "source": [
        "# Preparing the data by grouping by neighbourhood group and neighbourhood and then extracting the top 10 listings by count\n",
        "bar_data = df.groupby(['neighbourhood_group','neighbourhood']).agg({'neighbourhood':'count'}).rename(columns={'neighbourhood':'no_of_listings'}).reset_index().sort_values('no_of_listings',ascending=False).head(10)\n",
        "bar_data\n"
      ],
      "metadata": {
        "id": "el5HQtg4fxuK"
      },
      "execution_count": null,
      "outputs": []
    },
    {
      "cell_type": "code",
      "source": [
        "# Setting the size\n",
        "colors = {'Brooklyn':'midnightblue','Manhattan':'green'}\n",
        "plt.figure(figsize=(20,10))\n",
        "plt.bar(bar_data[\"neighbourhood\"], bar_data[\"no_of_listings\"], color=bar_data['neighbourhood_group'].replace(colors), width=0.5)\n",
        "# Title for the graph\n",
        "plt.title(\"Top 10 neighbourhoods and their groups\", fontsize=16, color=\"midnightblue\", fontweight=\"bold\")\n",
        "# The markings on the axes\n",
        "plt.xticks(fontsize=12, color=\"black\")\n",
        "plt.yticks(fontsize=10, color=\"black\")\n",
        "# Labels for the axes\n",
        "plt.ylabel(\"No. of listings\", fontsize=16, color=\"midnightblue\")\n",
        "plt.xlabel(\"Neighbourhood\", fontsize=16, color=\"midnightblue\")\n",
        "# Adding legends using Patch\n",
        "from matplotlib.patches import Patch\n",
        "plt.legend([Patch(facecolor=colors['Brooklyn']),Patch(facecolor=colors['Manhattan'])],[\"Brooklyn\",\"Manhattan\"], fontsize = 14)\n",
        "plt.show();"
      ],
      "metadata": {
        "id": "eX9GFU6zf2XY"
      },
      "execution_count": null,
      "outputs": []
    },
    {
      "cell_type": "markdown",
      "source": [
        "Why bar chart?"
      ],
      "metadata": {
        "id": "j5JpDByGgAri"
      }
    },
    {
      "cell_type": "markdown",
      "source": [
        "There is no other chart that depicts the rankings in a better and more easier-to-understand way than a bar graph.\n",
        "\n"
      ],
      "metadata": {
        "id": "u0VLE1q-gE34"
      }
    },
    {
      "cell_type": "markdown",
      "source": [
        "Insights from the chart?"
      ],
      "metadata": {
        "id": "hPq6xAmZgHvr"
      }
    },
    {
      "cell_type": "markdown",
      "source": [
        "As expected, the top 10 listings are from the two most popular neighbourhood groups, Brooklyn and Manhattan. And surprisingly, they account for 47.95% of the total listings of the dataset.\n",
        "\n"
      ],
      "metadata": {
        "id": "ywLdCIqVgKXD"
      }
    },
    {
      "cell_type": "markdown",
      "source": [
        "How does the insight help?"
      ],
      "metadata": {
        "id": "_S_COmyJgMs_"
      }
    },
    {
      "cell_type": "markdown",
      "source": [
        "The insights inform us about the ten most popular neighbourhoods of New York in terms of host listings. Now this may very well be because of high demands of accomodations in these neighbourhoods.\n",
        "\n"
      ],
      "metadata": {
        "id": "LNppGgmKgPdv"
      }
    },
    {
      "cell_type": "markdown",
      "source": [
        "**How does the price vary with the number of reviews per month?**"
      ],
      "metadata": {
        "id": "BmSdCmtEggn6"
      }
    },
    {
      "cell_type": "code",
      "source": [
        "# Preparing the data\n",
        "temp = df[['price', 'number_of_reviews']]\n",
        "# Removing the outliers to have a closer look at the patterns\n",
        "scatter_data = temp[(temp['price']<500)&(temp['number_of_reviews']<250)]\n",
        "scatter_data"
      ],
      "metadata": {
        "id": "YbvGv10VgkV-"
      },
      "execution_count": null,
      "outputs": []
    },
    {
      "cell_type": "code",
      "source": [
        "plt.figure(figsize = (18,12))\n",
        "# Plotting the scatter plot\n",
        "scatter = plt.scatter(scatter_data['price'],\n",
        "            scatter_data['number_of_reviews'],\n",
        "            alpha = 0.6)\n",
        "plt.title(\"Relationship between No. of reviews and Price\",\n",
        "          fontsize = 14,\n",
        "          weight = \"bold\")\n",
        "plt.xlabel(\"Price (in $)\", weight = \"bold\")\n",
        "plt.ylabel(\"Number of reviews\", weight = \"bold\")\n",
        "plt.show();"
      ],
      "metadata": {
        "id": "4u9EbXY4gpp1"
      },
      "execution_count": null,
      "outputs": []
    },
    {
      "cell_type": "markdown",
      "source": [
        "Why scatter plot?"
      ],
      "metadata": {
        "id": "dpuvl7lwgz00"
      }
    },
    {
      "cell_type": "markdown",
      "source": [
        "Scatter plot tells the relationship between two numerical variables in ways no other plots can. It is the best way to see if there is any kind of underlying relationship between two variables.\n",
        "\n"
      ],
      "metadata": {
        "id": "OP9FpRXBg8CX"
      }
    },
    {
      "cell_type": "markdown",
      "source": [
        "Insights from the plot?"
      ],
      "metadata": {
        "id": "DkaW9kO6g-vQ"
      }
    },
    {
      "cell_type": "markdown",
      "source": [
        "It is easy to tell by looking at the graph that there is no relation between the price and the number of reviews of a listing.\n",
        "\n"
      ],
      "metadata": {
        "id": "Rc7Bb1i3hBKk"
      }
    },
    {
      "cell_type": "markdown",
      "source": [
        "How does the insight help?"
      ],
      "metadata": {
        "id": "fR9wyvC0hDdI"
      }
    },
    {
      "cell_type": "markdown",
      "source": [
        "The chart ensures that there will be no idea of a relationship between the price and the number of reviews a listing recieves in the minds of the decision makers.\n",
        "\n",
        "More luxurious rooms don't mean the place is going to be reviewed more oftenly. Or that more affordable listings will get more feedbacks. The price doesn't have a say in the user's motive to review a place.\n",
        "\n"
      ],
      "metadata": {
        "id": "NrLS33nVhIRF"
      }
    },
    {
      "cell_type": "markdown",
      "source": [
        "**Do hosts with more listings have higher reviews rate?**"
      ],
      "metadata": {
        "id": "oWKhlAMjhMyH"
      }
    },
    {
      "cell_type": "code",
      "source": [
        "# Preparing the data\n",
        "temp = df[['calculated_host_listings_count', 'reviews_per_month']]\n",
        "# Removing the outliers to have a closer look at the patterns\n",
        "scatter_data = temp[(temp['reviews_per_month']<15)&(temp['calculated_host_listings_count']<60)]\n",
        "scatter_data\n"
      ],
      "metadata": {
        "id": "WVRbrQw3hTYp"
      },
      "execution_count": null,
      "outputs": []
    },
    {
      "cell_type": "code",
      "source": [
        "plt.figure(figsize = (18,12))\n",
        "# Plotting the scatter plot\n",
        "scatter = plt.scatter(scatter_data['calculated_host_listings_count'],\n",
        "            scatter_data['reviews_per_month'],\n",
        "            alpha = 0.6)\n",
        "plt.title(\"Relationship between Number of listings by hosts and Reviews received per month\",\n",
        "          fontsize = 14,\n",
        "          weight = \"bold\")\n",
        "plt.xlabel(\"No. of listings by a host\", weight = \"bold\")\n",
        "plt.ylabel(\"Reviews per month\", weight = \"bold\")\n",
        "plt.show();"
      ],
      "metadata": {
        "id": "02m8yHvchblv"
      },
      "execution_count": null,
      "outputs": []
    },
    {
      "cell_type": "code",
      "source": [
        "scatter_data.corr()"
      ],
      "metadata": {
        "id": "Y5p4DNh-hjbw"
      },
      "execution_count": null,
      "outputs": []
    },
    {
      "cell_type": "markdown",
      "source": [
        "So, the corr method confirms what the visualisation was suggesting i.e. there is not necessarily a strong relation between the number of listings by a host and the number of reviews his listings get every month.\n",
        "\n"
      ],
      "metadata": {
        "id": "EKf3dU_zhnH6"
      }
    },
    {
      "cell_type": "markdown",
      "source": [
        "Why scatter plot?"
      ],
      "metadata": {
        "id": "ePrNMcKUhrIo"
      }
    },
    {
      "cell_type": "markdown",
      "source": [
        "Scatter plot helps understand the relations better between two numerical variables.\n",
        "\n"
      ],
      "metadata": {
        "id": "BMq8yOfxhsZX"
      }
    },
    {
      "cell_type": "markdown",
      "source": [
        "Insights from the chart?"
      ],
      "metadata": {
        "id": "fJe9gmKMh1uL"
      }
    },
    {
      "cell_type": "markdown",
      "source": [
        "There is no relationship between the total number of listings by a host and the number of reviews his listing gets every month on average.\n",
        "\n"
      ],
      "metadata": {
        "id": "8GzoiQpMh4Fg"
      }
    },
    {
      "cell_type": "markdown",
      "source": [
        "How does the insight help?"
      ],
      "metadata": {
        "id": "qJduFudHh7mv"
      }
    },
    {
      "cell_type": "markdown",
      "source": [
        "It tells that the hosts with more listings are not doing anything differently to drive the number of reviews their listings are getting. However, getting reviewed frequently and positively helps hosts build trust and acquire more users.\n",
        "\n",
        "Hosts can certainly be adviced to do better to get reviewed by users.\n",
        "\n"
      ],
      "metadata": {
        "id": "Nkhtgxceh_4O"
      }
    },
    {
      "cell_type": "markdown",
      "source": [
        "**How the price varies between the different neighbourhood groups for the three types of rooms?**"
      ],
      "metadata": {
        "id": "YjI5iS1yiEap"
      }
    },
    {
      "cell_type": "code",
      "source": [
        "# Preparing the dataset\n",
        "bar_data = df.groupby(['neighbourhood_group', 'room_type'], as_index=False)['price'].median()\n",
        "bar_data"
      ],
      "metadata": {
        "id": "NiflzlWbiLrv"
      },
      "execution_count": null,
      "outputs": []
    },
    {
      "cell_type": "code",
      "source": [
        "# Plotting the bar multivariate graph\n",
        "sns.set_palette('colorblind')\n",
        "plt.figure(figsize=(20,10))\n",
        "sns.barplot(data=bar_data, x='neighbourhood_group', y ='price', hue='room_type')\n",
        "# Title for the graph\n",
        "plt.title(\"Price for various room types in the neighbourhood groups\", fontsize=16, color=\"black\", fontweight=\"bold\")\n",
        "# The markings on the axes\n",
        "plt.xticks(fontsize=12, color=\"black\")\n",
        "plt.yticks(fontsize=10, color=\"black\")\n",
        "# Labels for the axes\n",
        "plt.ylabel(\"Price\", fontsize=16, color=\"black\")\n",
        "plt.xlabel(\"Neighbourhood\", fontsize=16, color=\"black\")\n",
        "plt.legend(title=\"Room types\")\n",
        "plt.show();"
      ],
      "metadata": {
        "id": "LQnvt-rGiRQU"
      },
      "execution_count": null,
      "outputs": []
    },
    {
      "cell_type": "markdown",
      "source": [
        "Why bar graph?"
      ],
      "metadata": {
        "id": "jwLva7sIiXti"
      }
    },
    {
      "cell_type": "markdown",
      "source": [
        "Bar graph are one of the easiest understood graph kinds, especially for our kind of data.\n",
        "\n"
      ],
      "metadata": {
        "id": "3fGBRZjlia8Q"
      }
    },
    {
      "cell_type": "markdown",
      "source": [
        "Insight from the chart?"
      ],
      "metadata": {
        "id": "CL1Jl2wBidbV"
      }
    },
    {
      "cell_type": "markdown",
      "source": [
        "Manhattan is the most expensive neighbourhood group whereas Bronx and Staten Island have almost similar costs and are the cheapest.\n",
        "\n",
        "Manhattan is so expensive that getting a private room there is as expensive as getting an entire home/apt in Staten Island and Bronx.\n",
        "\n",
        "The price of getting a private room is almost same for all the neighbourhood groups but Manhattan.\n",
        "\n"
      ],
      "metadata": {
        "id": "Ng-TyrzyigKC"
      }
    },
    {
      "cell_type": "markdown",
      "source": [
        "How does the insight help?"
      ],
      "metadata": {
        "id": "OFVjnwNgijpe"
      }
    },
    {
      "cell_type": "markdown",
      "source": [
        "The insight will help understand which kind of user should be shown what type of room when looking for one in a certain neighbourhood group.\n",
        "\n",
        "A user who usually gets a private room when in Manhattan to save money could be swayed towards getting an entire home/apt in neighbourhood groups such as Staten Island and Bronx. This way, the user will have a better experience at the same cost at which he would get lesser in Manhattan. This way such insights can be used to have a positive impact on a user.\n",
        "\n"
      ],
      "metadata": {
        "id": "ckDsHgCnimEm"
      }
    },
    {
      "cell_type": "markdown",
      "source": [
        "**How does the availability of the rooms vary depending on the price?**"
      ],
      "metadata": {
        "id": "sFvkm58Piqfc"
      }
    },
    {
      "cell_type": "code",
      "source": [
        "temp = df[['availability_365','price']]\n",
        "scatter_data = temp[temp['price']<500] #Removing the outliers\n",
        "scatter_data\n"
      ],
      "metadata": {
        "id": "V1Uwn6IAixbI"
      },
      "execution_count": null,
      "outputs": []
    },
    {
      "cell_type": "code",
      "source": [
        "plt.figure(figsize = (18,12))\n",
        "# Plotting the scatter plot\n",
        "scatter = plt.scatter(scatter_data['availability_365'],\n",
        "            scatter_data['price'],\n",
        "            alpha = 0.6)\n",
        "plt.title(\"Relationship between Availability of rooms and Price\",\n",
        "          fontsize = 14,\n",
        "          weight = \"bold\")\n",
        "plt.xlabel(\"Availability over 365 days\", weight = \"bold\")\n",
        "plt.ylabel(\"Price (in $)\", weight = \"bold\")\n",
        "plt.show();\n"
      ],
      "metadata": {
        "id": "09CRc-GMi5SR"
      },
      "execution_count": null,
      "outputs": []
    },
    {
      "cell_type": "markdown",
      "source": [
        "Why scatter plot?"
      ],
      "metadata": {
        "id": "XyYp6bi6jAPb"
      }
    },
    {
      "cell_type": "markdown",
      "source": [
        "Scatter plots help us see the exact relationship between two variables.\n",
        "\n"
      ],
      "metadata": {
        "id": "HGsGPkhxjLT-"
      }
    },
    {
      "cell_type": "markdown",
      "source": [
        "Insight from the plot?"
      ],
      "metadata": {
        "id": "cARBu7P6jRHV"
      }
    },
    {
      "cell_type": "markdown",
      "source": [
        "There exists no relation between the price and the availability of a listing.\n",
        "\n"
      ],
      "metadata": {
        "id": "12LadcOOjU-n"
      }
    },
    {
      "cell_type": "markdown",
      "source": [
        "How does the insight help?"
      ],
      "metadata": {
        "id": "jbxXS8WDjXhc"
      }
    },
    {
      "cell_type": "markdown",
      "source": [
        "We can tell that price does not decide whether a listing will be popular among the users or not. It may be one of the reasons but not the only. And, of course, there are going to be exceptions given how hosts may offer promotional discounts.\n",
        "\n"
      ],
      "metadata": {
        "id": "mTv3WlvSjaPt"
      }
    },
    {
      "cell_type": "markdown",
      "source": [
        "**How does the availability of the rooms vary in the three room types for each neighbourhood group?**"
      ],
      "metadata": {
        "id": "kaUL-s2cjeqT"
      }
    },
    {
      "cell_type": "code",
      "source": [
        "# Preparing the dataset\n",
        "bar_data = df.groupby(['neighbourhood_group', 'room_type'], as_index=False)['availability_365'].median()\n",
        "bar_data\n"
      ],
      "metadata": {
        "id": "ns6sylDHjqr3"
      },
      "execution_count": null,
      "outputs": []
    },
    {
      "cell_type": "code",
      "source": [
        "# Plotting the bar multivariate graph\n",
        "sns.set_palette('colorblind')\n",
        "plt.figure(figsize=(20,10))\n",
        "sns.barplot(data=bar_data, x='neighbourhood_group', y ='availability_365', hue='room_type')\n",
        "# Title for the graph\n",
        "plt.title(\"Availability over 365 days for various room types in the neighbourhood groups\", fontsize=16, color=\"black\", fontweight=\"bold\")\n",
        "# The markings on the axes\n",
        "plt.xticks(fontsize=12, color=\"black\")\n",
        "plt.yticks(fontsize=10, color=\"black\")\n",
        "# Labels for the axes\n",
        "plt.ylabel(\"No. of days available in a year\", fontsize=16, color=\"black\")\n",
        "plt.xlabel(\"Neighbourhood\", fontsize=16, color=\"black\")\n",
        "plt.legend(title=\"Room types\")\n",
        "plt.show();\n"
      ],
      "metadata": {
        "id": "Es2ciO4VjvYD"
      },
      "execution_count": null,
      "outputs": []
    },
    {
      "cell_type": "markdown",
      "source": [
        "Why bar plot?"
      ],
      "metadata": {
        "id": "RKlo-NCoj3-U"
      }
    },
    {
      "cell_type": "markdown",
      "source": [
        "Bar plots helps us understand two categorical and a numerical variable together in one of the most simplest way.\n",
        "\n"
      ],
      "metadata": {
        "id": "nMkBN1Wsj49j"
      }
    },
    {
      "cell_type": "markdown",
      "source": [
        "Insights from the plot?"
      ],
      "metadata": {
        "id": "O1g4P13wj8Wj"
      }
    },
    {
      "cell_type": "markdown",
      "source": [
        "Private rooms and entire home/apt are available for lesser than 50 days on average in Brooklyn and Manhattan. Hence, the places with more listings prefer entire rooms or a private room over shared rooms.\n",
        "\n",
        "Shared rooms are the busiest of all the room types in Staten Island and have some of the lowest availability rate in New York.\n",
        "\n"
      ],
      "metadata": {
        "id": "xkozzvftj_BM"
      }
    },
    {
      "cell_type": "markdown",
      "source": [
        "How does the insight help?"
      ],
      "metadata": {
        "id": "3nqXkZqzkCVM"
      }
    },
    {
      "cell_type": "markdown",
      "source": [
        "Looking at the insights we know which room types are available more or less in the different neighbourhood groups.\n",
        "\n"
      ],
      "metadata": {
        "id": "HCUQoPKakFBv"
      }
    },
    {
      "cell_type": "markdown",
      "source": [
        "**Density of Rooms**"
      ],
      "metadata": {
        "id": "bamQiAODYuh1"
      }
    },
    {
      "cell_type": "code",
      "source": [
        "# visualization code\n",
        "plt.figure(figsize=(10,6))\n",
        "ax_5 = sns.scatterplot(df.longitude,df.latitude,hue=df.neighbourhood_group)\n",
        "ax_5.set_title('Density of rooms')\n",
        "ax_5.set_ylabel('latitude')\n",
        "ax_5.set_xlabel('longitude')\n",
        "plt.show()"
      ],
      "metadata": {
        "id": "TIJwrbroYuh3"
      },
      "execution_count": null,
      "outputs": []
    },
    {
      "cell_type": "markdown",
      "source": [
        "Why did you pick the specific chart?"
      ],
      "metadata": {
        "id": "QHF8YVU7Yuh3"
      }
    },
    {
      "cell_type": "markdown",
      "source": [
        "Scatter plots present the relationship between two variables in a data-set.\n"
      ],
      "metadata": {
        "id": "dcxuIMRPYuh3"
      }
    },
    {
      "cell_type": "markdown",
      "source": [
        "What is/are the insight(s) found from the chart?"
      ],
      "metadata": {
        "id": "GwzvFGzlYuh3"
      }
    },
    {
      "cell_type": "markdown",
      "source": [
        "latitude and longtitude visulalizes us that Brooklyn and Manhattan are the most dense with hotels and apartments followed by queens island.\n"
      ],
      "metadata": {
        "id": "uyqkiB8YYuh3"
      }
    },
    {
      "cell_type": "markdown",
      "source": [
        "**Affordable ,Cheap and Expensive Properties**"
      ],
      "metadata": {
        "id": "OH-pJp9IphqM"
      }
    },
    {
      "cell_type": "code",
      "source": [
        "# visualization code\n",
        "def price_catagory(price):\n",
        "  if price<=80:\n",
        "    return 'cheep'\n",
        "  elif price>=80 and price<=500:\n",
        "    return 'affordable'\n",
        "  else:\n",
        "    return 'Expensive'\n",
        "\n",
        "\n",
        "\n",
        "\n",
        "plt.figure(figsize=(10,5))\n",
        "ax_7 = sns.countplot(x=df['price'].apply(price_catagory))\n",
        "ax_7.set_title('Count Plot')\n",
        "ax_7.set_xlabel('Catogories of rooms')\n",
        "ax_7.set_ylabel(\"Count\")\n",
        "plt.show()\n"
      ],
      "metadata": {
        "id": "kuRf4wtuphqN"
      },
      "execution_count": null,
      "outputs": []
    },
    {
      "cell_type": "markdown",
      "source": [
        "Why did you pick the specific chart?"
      ],
      "metadata": {
        "id": "bbFf2-_FphqN"
      }
    },
    {
      "cell_type": "markdown",
      "source": [
        "The countplot is used to represent the occurrence(counts) of the observation present in the categorical variable.\n",
        "\n"
      ],
      "metadata": {
        "id": "loh7H2nzphqN"
      }
    },
    {
      "cell_type": "markdown",
      "source": [
        "What is/are the insight(s) found from the chart?"
      ],
      "metadata": {
        "id": "_ouA3fa0phqN"
      }
    },
    {
      "cell_type": "markdown",
      "source": [
        "we have considered to devide the whole price range into three catogories\n",
        "\n",
        "A. cheap (price range below or equal to 80$)\n",
        "\n",
        "B. Affordable(for price range 80 to 500$)\n",
        "\n",
        "C. Expensive(for price range more then 500$)\n",
        "\n",
        "so, it look like people have more intrest in having \"affordable\" rooms/apartments rathre then having cheep and expensive rooms.\n",
        "\n"
      ],
      "metadata": {
        "id": "VECbqPI7phqN"
      }
    },
    {
      "cell_type": "markdown",
      "source": [
        "**Minimum number of nights distribution**"
      ],
      "metadata": {
        "id": "PIIx-8_IphqN"
      }
    },
    {
      "cell_type": "code",
      "source": [
        "# visualization code\n",
        "df[['minimum_nights']].value_counts()"
      ],
      "metadata": {
        "id": "lqAIGUfyphqO"
      },
      "execution_count": null,
      "outputs": []
    },
    {
      "cell_type": "code",
      "source": [
        "df[['minimum_nights']].describe()"
      ],
      "metadata": {
        "id": "ByZyAUmGzQZY"
      },
      "execution_count": null,
      "outputs": []
    },
    {
      "cell_type": "code",
      "source": [
        "ax = sns.distplot(df.minimum_nights)\n",
        "plt.title('Minimum no. of nights distribution')\n",
        "plt.show()"
      ],
      "metadata": {
        "id": "x5-kjK7czZiW"
      },
      "execution_count": null,
      "outputs": []
    },
    {
      "cell_type": "markdown",
      "source": [
        "Why did you pick the specific chart?"
      ],
      "metadata": {
        "id": "t27r6nlMphqO"
      }
    },
    {
      "cell_type": "markdown",
      "source": [
        "A Distplot or distribution plot, depicts the variation in the data distribution.\n",
        "\n",
        "---\n",
        "\n"
      ],
      "metadata": {
        "id": "iv6ro40sphqO"
      }
    },
    {
      "cell_type": "markdown",
      "source": [
        "What is/are the insight(s) found from the chart?"
      ],
      "metadata": {
        "id": "r2jJGEOYphqO"
      }
    },
    {
      "cell_type": "markdown",
      "source": [
        "1. most of the neights booked are from 0 to less then 100 days.\n",
        "we will plot further and see.\n",
        "2. we can see that there may be outliers.we can plot and check it.\n",
        "3. we will plot box plot and check.\n",
        "4. log scale can show us the shape of skwed data.\n",
        "\n",
        "Note:How do you handle skewed data in Python?\n",
        "One way of handling right, or left, skewed data is to carry out the logarithmic transformation on our data. For example, np.log(x) will log transform the variable x in Python. There are other options as well as the Box-Cox and Square root transformations.\n",
        "\n",
        "Observations From statistics:\n",
        "\n",
        "1.Average booking is aroun 7 neights.\n",
        "\n",
        "2.minimum booking is for 1 neight.\n",
        "\n",
        "3.max booking is for more then a year or we can say for few years.\n"
      ],
      "metadata": {
        "id": "Po6ZPi4hphqO"
      }
    },
    {
      "cell_type": "markdown",
      "source": [
        "**Chart for each Neigh ourhood group**"
      ],
      "metadata": {
        "id": "YJ55k-q6phqO"
      }
    },
    {
      "cell_type": "code",
      "source": [
        "#  visualization code\n",
        "price_df = pd.DataFrame(df['price'].apply(price_catagory))\n",
        "price_df.head()"
      ],
      "metadata": {
        "id": "B2aS4O1ophqO"
      },
      "execution_count": null,
      "outputs": []
    },
    {
      "cell_type": "code",
      "source": [
        "plt.style.use('fivethirtyeight')\n",
        "\n",
        "price_500 = df[df.price <700]\n",
        "plt.figure(figsize=(10,6))\n",
        "plt.title(\"price for each neighbourhood_group\")\n",
        "sns.boxplot(y= 'price',x= 'neighbourhood_group',data=price_500)\n",
        "plt.show()\n"
      ],
      "metadata": {
        "id": "9uvpRHbr1x8l"
      },
      "execution_count": null,
      "outputs": []
    },
    {
      "cell_type": "markdown",
      "source": [
        "Why did you pick the specific chart?"
      ],
      "metadata": {
        "id": "gCFgpxoyphqP"
      }
    },
    {
      "cell_type": "markdown",
      "source": [
        "Box plots are used to show distributions of numeric data values, especially when you want to compare them between multiple groups."
      ],
      "metadata": {
        "id": "TVxDimi2phqP"
      }
    },
    {
      "cell_type": "markdown",
      "source": [
        "What is/are the insight(s) found from the chart?"
      ],
      "metadata": {
        "id": "OVtJsKN_phqQ"
      }
    },
    {
      "cell_type": "markdown",
      "source": [
        "1. We can see that Manhattam is the most expensive destination immediatly followed by Brooklyn.\n",
        "2. Queens, staten island and Bronx, are having price range less as compaired to\n",
        "other two."
      ],
      "metadata": {
        "id": "ngGi97qjphqQ"
      }
    },
    {
      "cell_type": "markdown",
      "source": [
        " **Solution to Business Objective**"
      ],
      "metadata": {
        "id": "JcMwzZxoAimU"
      }
    },
    {
      "cell_type": "markdown",
      "source": [
        "From our EDA, we have the following advices/suggestions for the stakeholders:\n",
        "\n",
        "1) Increase foothold in Staten Island and Bronx.\n",
        "\n",
        "2) Try to get data to understand what makes users of Manhattan prefer entire home/apt over private rooms, unlike other neighbourhood groups.\n",
        "\n",
        "3) Incentivize users to review listings.\n",
        "\n",
        "4) Investigate and if needed incentivize hosting shared rooms.\n",
        "\n",
        "5) Marketing campaigns to create awareness about affordability and availability of shared rooms.\n",
        "\n",
        "6) More data should be collected and analysed to understand what are driving the reviews and if they are positive or not."
      ],
      "metadata": {
        "id": "NIMWgKpXlM0K"
      }
    },
    {
      "cell_type": "markdown",
      "source": [
        " **Conclusion**"
      ],
      "metadata": {
        "id": "gCX9965dhzqZ"
      }
    },
    {
      "cell_type": "markdown",
      "source": [
        "1) Manhattan and the places nearby are densely populated. It is the most\n",
        "popular neighbourhood.\n",
        "\n",
        "2) Manhattan and Brooklyn comprise almost 85% of the listings of New York on AirBnb. Whereas Bronx and Staten Island (the largest of the five neighbourhood groups) lack presence and account for only about 3% combined.\n",
        "\n",
        "3) The most common types of rooms are apartments or homes fully available whereas the least common type is the shared room.\n",
        "\n",
        "4)More than 75% of the rooms for the private and shared ones cost lesser than $100 whereas the price doubles at the 75th percentile for entire rooms and apartments.\n",
        "\n",
        "5) There are more listings of entire home/apt in Manhattan than private rooms. A trend uncommon among the other neighbourhood groups.\n",
        "\n",
        "6) Generally, shared and private rooms are reviewed more frequently than entire house/apt room type.\n",
        "\n",
        "7) Shared rooms are more available (90 days) whereas entire homes or apartments and private rooms have almost similar availability (42-45 days).\n",
        "\n",
        "8) Booking entire home/apartment doesn't only need more money but a committment of more days as well.\n",
        "\n",
        "9) There is no relation between the price and the number of reviews of a listing.\n",
        "\n",
        "10) Manhattan is so expensive that getting a private room there is as expensive as getting an entire home/apt in Staten Island and Bronx.\n",
        "11) The price of getting a private room is almost same for all the neighbourhood groups but Manhattan.\n",
        "\n",
        "12) Price does not decide whether a listing will be popular among the users or not.\n",
        "\n",
        "13) Private rooms and entire home/apt are available for lesser than 50 days on average in Brooklyn and Manhattan.\n",
        "\n",
        "14)Manhattan has users writing reviews for the shared and private rooms more than entire rooms, a trend not common with the other neighbourhood groups."
      ],
      "metadata": {
        "id": "Qtx5RFosltIA"
      }
    },
    {
      "cell_type": "code",
      "source": [],
      "metadata": {
        "id": "orhDoVB7vAQQ"
      },
      "execution_count": null,
      "outputs": []
    }
  ]
}